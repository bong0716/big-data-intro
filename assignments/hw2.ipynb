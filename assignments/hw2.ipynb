{
 "cells": [
  {
   "cell_type": "code",
   "execution_count": null,
   "metadata": {},
   "outputs": [],
   "source": [
    "[과제: udf 등록 및 SQL 처리]\n",
    "UDF 함수명: age_category(age)\n",
    "- age가 35살 미만: 'young'\n",
    "- age가 35살-59살: 'adult'\n",
    "- age가 60살 이상: 'senior'\n",
    "\n",
    "데이터프레임\n",
    "- 변수: name, age (예: '안현', 39)\n",
    "- 데이터 5개~10개 생성 \n",
    "\n",
    "SQL 출력 결과: name, age_category(age)\n",
    "\n",
    "- 제출 방법: GitHub에 업로드\n",
    "- 제출 기한: 5.24(수)"
   ]
  },
  {
   "cell_type": "code",
   "execution_count": 8,
   "metadata": {},
   "outputs": [],
   "source": [
    "from pyspark.sql import SparkSession\n",
    "spark = SparkSession.builder.master('local').appName('udf_hw').getOrCreate()"
   ]
  },
  {
   "cell_type": "code",
   "execution_count": 16,
   "metadata": {},
   "outputs": [],
   "source": [
    "name_age = [\n",
    "    ('안현', 39),\n",
    "    ('윤혜진', 23),\n",
    "    ('홍길동', 20),\n",
    "    ('갑을병', 13),\n",
    "    ('김한신', 44),\n",
    "    ('오병민', 50),\n",
    "    ('이지현', 67),\n",
    "    ('조윤지', 36)\n",
    "]"
   ]
  },
  {
   "cell_type": "code",
   "execution_count": 6,
   "metadata": {},
   "outputs": [],
   "source": [
    "schema = ['name', 'age'] "
   ]
  },
  {
   "cell_type": "code",
   "execution_count": 15,
   "metadata": {},
   "outputs": [],
   "source": [
    "df = spark.createDataFrame(name_age, schema)\n",
    "df.createOrReplaceTempView('nameAge')"
   ]
  },
  {
   "cell_type": "code",
   "execution_count": 17,
   "metadata": {},
   "outputs": [],
   "source": [
    "def age_category(age):\n",
    "    if(age < 35):\n",
    "        str = 'young'\n",
    "    elif(age >= 35 & age < 60):\n",
    "        str = 'adult'\n",
    "    else:\n",
    "        str = 'senior'\n",
    "    return str"
   ]
  },
  {
   "cell_type": "code",
   "execution_count": 19,
   "metadata": {},
   "outputs": [
    {
     "data": {
      "text/plain": [
       "<function __main__.age_category(age)>"
      ]
     },
     "execution_count": 19,
     "metadata": {},
     "output_type": "execute_result"
    }
   ],
   "source": [
    "spark.udf.register('age_category', age_category)"
   ]
  },
  {
   "cell_type": "code",
   "execution_count": 20,
   "metadata": {},
   "outputs": [
    {
     "name": "stdout",
     "output_type": "stream",
     "text": [
      "+------+-----------------+\n",
      "|  name|age_category(age)|\n",
      "+------+-----------------+\n",
      "|  안현|            adult|\n",
      "|윤혜진|            young|\n",
      "|홍길동|            young|\n",
      "|갑을병|            young|\n",
      "|김한신|            adult|\n",
      "|오병민|            adult|\n",
      "|이지현|            adult|\n",
      "|조윤지|            adult|\n",
      "+------+-----------------+\n",
      "\n"
     ]
    }
   ],
   "source": [
    "spark.sql(\n",
    "    \"SELECT name, age_category(age) \\\n",
    "    FROM nameAge\").show()"
   ]
  },
  {
   "cell_type": "code",
   "execution_count": null,
   "metadata": {},
   "outputs": [],
   "source": []
  }
 ],
 "metadata": {
  "kernelspec": {
   "display_name": "Python 3",
   "language": "python",
   "name": "python3"
  },
  "language_info": {
   "codemirror_mode": {
    "name": "ipython",
    "version": 3
   },
   "file_extension": ".py",
   "mimetype": "text/x-python",
   "name": "python",
   "nbconvert_exporter": "python",
   "pygments_lexer": "ipython3",
   "version": "3.8.5"
  }
 },
 "nbformat": 4,
 "nbformat_minor": 4
}
